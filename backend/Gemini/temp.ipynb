{
 "cells": [
  {
   "cell_type": "code",
   "execution_count": null,
   "metadata": {},
   "outputs": [],
   "source": [
    "from backend.Gemini.web_scraper import WebScraper\n",
    "\n",
    "urls = [\n",
    "        'https://example.com',\n",
    "        'https://python.org'\n",
    "    ]\n",
    "    \n",
    "scraper = WebScraper(delay=1.5)  # 1.5 seconds delay between requests\n",
    "results = scraper.scrape_urls(urls)"
   ]
  },
  {
   "cell_type": "code",
   "execution_count": 1,
   "metadata": {},
   "outputs": [
    {
     "name": "stdout",
     "output_type": "stream",
     "text": [
      "Winter\n"
     ]
    }
   ],
   "source": [
    "from hackknight.backend.Gemini.weather import WeatherAPI\n",
    "\n",
    "weather = WeatherAPI()\n",
    "season = weather.get_season(\"America/New_York\", \"northern\")\n",
    "print(season)"
   ]
  }
 ],
 "metadata": {
  "kernelspec": {
   "display_name": "Python 3",
   "language": "python",
   "name": "python3"
  },
  "language_info": {
   "codemirror_mode": {
    "name": "ipython",
    "version": 3
   },
   "file_extension": ".py",
   "mimetype": "text/x-python",
   "name": "python",
   "nbconvert_exporter": "python",
   "pygments_lexer": "ipython3",
   "version": "3.12.3"
  }
 },
 "nbformat": 4,
 "nbformat_minor": 2
}
