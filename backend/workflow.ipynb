{
 "cells": [
  {
   "cell_type": "markdown",
   "metadata": {},
   "source": [
    "# Small Business Supply Chain to Portfolio Workflow\n",
    "\n",
    "This notebook demonstrates the end-to-end workflow from small business data to optimized investment portfolio:\n",
    "\n",
    "1. Load small business data\n",
    "2. Generate supply chain analysis using Gemini\n",
    "3. Get stock tickers for each industry in the supply chain\n",
    "4. Create an optimized portfolio using those tickers"
   ]
  },
  {
   "cell_type": "markdown",
   "metadata": {},
   "source": [
    "## 1. Setup and Imports"
   ]
  },
  {
   "cell_type": "code",
   "execution_count": 1,
   "metadata": {},
   "outputs": [
    {
     "name": "stderr",
     "output_type": "stream",
     "text": [
      "/home/bdyee/.local/lib/python3.12/site-packages/tqdm/auto.py:21: TqdmWarning: IProgress not found. Please update jupyter and ipywidgets. See https://ipywidgets.readthedocs.io/en/stable/user_install.html\n",
      "  from .autonotebook import tqdm as notebook_tqdm\n",
      "2025-03-08 09:42:17,520 - dotenv.main - WARNING - Python-dotenv could not parse statement starting at line 2\n",
      "2025-03-08 09:42:17,521 - dotenv.main - WARNING - Python-dotenv could not parse statement starting at line 3\n",
      "2025-03-08 09:42:17,522 - dotenv.main - WARNING - Python-dotenv could not parse statement starting at line 4\n",
      "2025-03-08 09:42:17,523 - dotenv.main - WARNING - Python-dotenv could not parse statement starting at line 5\n",
      "2025-03-08 09:42:17,523 - dotenv.main - WARNING - Python-dotenv could not parse statement starting at line 6\n",
      "2025-03-08 09:42:17,524 - dotenv.main - WARNING - Python-dotenv could not parse statement starting at line 7\n",
      "2025-03-08 09:42:17,524 - dotenv.main - WARNING - Python-dotenv could not parse statement starting at line 8\n",
      "2025-03-08 09:42:17,525 - dotenv.main - WARNING - Python-dotenv could not parse statement starting at line 9\n",
      "2025-03-08 09:42:17,526 - dotenv.main - WARNING - Python-dotenv could not parse statement starting at line 10\n",
      "2025-03-08 09:42:17,526 - dotenv.main - WARNING - Python-dotenv could not parse statement starting at line 11\n",
      "2025-03-08 09:42:17,527 - dotenv.main - WARNING - Python-dotenv could not parse statement starting at line 12\n"
     ]
    }
   ],
   "source": [
    "import sys\n",
    "import os\n",
    "import pandas as pd\n",
    "import numpy as np\n",
    "import matplotlib.pyplot as plt\n",
    "import seaborn as sns\n",
    "from pathlib import Path\n",
    "from dotenv import load_dotenv\n",
    "\n",
    "# Add project root to path\n",
    "notebook_path = os.path.abspath('')\n",
    "project_root = os.path.dirname(notebook_path)\n",
    "if project_root not in sys.path:\n",
    "    sys.path.insert(0, project_root)\n",
    "\n",
    "# Import our modules\n",
    "from backend.gemini.data_loader import DataLoader\n",
    "from backend.gemini.gemini import Gemini\n",
    "from backend.models.optimizationmodels import PortfolioOptimizationModel\n",
    "\n",
    "# Load environment variables\n",
    "load_dotenv()\n",
    "\n",
    "# Set up plotting\n",
    "plt.style.use('ggplot')\n",
    "sns.set_theme()\n",
    "%matplotlib inline"
   ]
  },
  {
   "cell_type": "markdown",
   "metadata": {},
   "source": [
    "## 2. Load Small Business Data"
   ]
  },
  {
   "cell_type": "code",
   "execution_count": 2,
   "metadata": {},
   "outputs": [
    {
     "name": "stdout",
     "output_type": "stream",
     "text": [
      "Generated initial data for 15 businesses\n",
      "Business Name: The Flower Wall Rental Co.\n",
      "Business Type: Flower Wall Rental\n",
      "Location: 53 Horace Harding Expy, Queens, NY, 11367\n",
      "Annual Revenue: $844,102\n",
      "\n",
      "Current Season: Winter\n"
     ]
    }
   ],
   "source": [
    "# Initialize data loader\n",
    "data_loader = DataLoader()\n",
    "\n",
    "# Choose a business ID to analyze\n",
    "business_id = \"FWR\"  # The Flower Wall Rental Co.\n",
    "\n",
    "# Load business data\n",
    "business_data = data_loader.get_small_business_data(business_id)\n",
    "\n",
    "# Display business info\n",
    "print(f\"Business Name: {business_data['name']}\")\n",
    "print(f\"Business Type: {business_data['business_type']}\")\n",
    "print(f\"Location: {business_data['address']}, {business_data['zip_code']}\")\n",
    "print(f\"Annual Revenue: ${business_data['annual_revenue']:,}\")\n",
    "\n",
    "# Get current season\n",
    "current_season = data_loader.get_weather()\n",
    "print(f\"\\nCurrent Season: {current_season}\")"
   ]
  },
  {
   "cell_type": "markdown",
   "metadata": {},
   "source": [
    "## 3. Generate Supply Chain Analysis"
   ]
  },
  {
   "cell_type": "code",
   "execution_count": 3,
   "metadata": {},
   "outputs": [
    {
     "name": "stderr",
     "output_type": "stream",
     "text": [
      "2025-03-08 09:42:33,921 - dotenv.main - WARNING - Python-dotenv could not parse statement starting at line 2\n",
      "2025-03-08 09:42:33,923 - dotenv.main - WARNING - Python-dotenv could not parse statement starting at line 3\n",
      "2025-03-08 09:42:33,924 - dotenv.main - WARNING - Python-dotenv could not parse statement starting at line 4\n",
      "2025-03-08 09:42:33,926 - dotenv.main - WARNING - Python-dotenv could not parse statement starting at line 5\n",
      "2025-03-08 09:42:33,926 - dotenv.main - WARNING - Python-dotenv could not parse statement starting at line 6\n",
      "2025-03-08 09:42:33,928 - dotenv.main - WARNING - Python-dotenv could not parse statement starting at line 7\n",
      "2025-03-08 09:42:33,929 - dotenv.main - WARNING - Python-dotenv could not parse statement starting at line 8\n",
      "2025-03-08 09:42:33,930 - dotenv.main - WARNING - Python-dotenv could not parse statement starting at line 9\n",
      "2025-03-08 09:42:33,931 - dotenv.main - WARNING - Python-dotenv could not parse statement starting at line 10\n",
      "2025-03-08 09:42:33,932 - dotenv.main - WARNING - Python-dotenv could not parse statement starting at line 11\n",
      "2025-03-08 09:42:33,933 - dotenv.main - WARNING - Python-dotenv could not parse statement starting at line 12\n",
      "2025-03-08 09:42:33,934 - backend.gemini.gemini - INFO - Successfully initialized gemini-2.0-flash-lite-preview model with optimized settings\n"
     ]
    },
    {
     "name": "stdout",
     "output_type": "stream",
     "text": [
      "Generating supply chain analysis...\n"
     ]
    },
    {
     "name": "stderr",
     "output_type": "stream",
     "text": [
      "2025-03-08 09:42:37,491 - backend.gemini.gemini - INFO - Successfully generated prompt for business ID: FWR\n",
      "2025-03-08 09:42:38,711 - backend.gemini.gemini - INFO - Successfully generated supply chain for business ID: FWR\n",
      "2025-03-08 09:42:38,713 - backend.gemini.gemini - INFO - Processed supply chain into 3 industries\n"
     ]
    },
    {
     "name": "stdout",
     "output_type": "stream",
     "text": [
      "\n",
      "Supply Chain Analysis:\n",
      "Wholesale Florist/Craft Supply Co./Import Decor LLC (raw materials), Flower Wall Rental Co. (inventory/rental), Event Venue/Customer (end consumer)\n",
      "\n",
      "Supply Chain Industries: ['Wholesale Florist/Craft Supply Co./Import Decor LLC (raw materials)', 'Flower Wall Rental Co. (inventory/rental)', 'Event Venue/Customer (end consumer)']\n"
     ]
    }
   ],
   "source": [
    "# Initialize Gemini model\n",
    "gemini = Gemini()\n",
    "\n",
    "# Generate supply chain analysis\n",
    "print(\"Generating supply chain analysis...\")\n",
    "supply_chain_text = gemini.generate_supply_chain(business_id)\n",
    "print(f\"\\nSupply Chain Analysis:\\n{supply_chain_text}\")\n",
    "\n",
    "# Get the supply chain as a list\n",
    "supply_chain_list = gemini.get_supply_chain()\n",
    "print(f\"\\nSupply Chain Industries: {supply_chain_list}\")"
   ]
  },
  {
   "cell_type": "markdown",
   "metadata": {},
   "source": [
    "## 4. Get Stock Tickers for Supply Chain Industries"
   ]
  },
  {
   "cell_type": "code",
   "execution_count": 4,
   "metadata": {},
   "outputs": [
    {
     "name": "stdout",
     "output_type": "stream",
     "text": [
      "Getting stock tickers for supply chain industries...\n"
     ]
    },
    {
     "name": "stderr",
     "output_type": "stream",
     "text": [
      "2025-03-08 09:42:51,557 - backend.gemini.gemini - INFO - Successfully generated ticker list with 15 industries\n"
     ]
    },
    {
     "name": "stdout",
     "output_type": "stream",
     "text": [
      "\n",
      "Stock Tickers by Industry:\n",
      "  Okay, here's a list of three major publicly traded companies (stock tickers) for each of the industries you specified, following your rules: \n",
      "  **Wholesale Florist/Craft Supply Co./Import Decor LLC (raw materials): **\n",
      "  *   **SHW** (Sherwin-Williams Co.): While primarily a paint and coatings company, they also have a significant presence in the DIY and craft supply market.\n",
      "  *   **WMK** (Wesco International, Inc.): A global provider of business-to-business distribution, logistics services, and supply chain solutions.\n",
      "  *   **LOW** (Lowe's Companies, Inc.): A major home improvement retailer that sells raw materials for various crafts and decor, including floral arrangements.\n",
      "  **Flower Wall Rental Co. (inventory/rental): **\n",
      "  **Event Venue/Customer (end consumer): **\n",
      "  *   **MAR** (Marriott International, Inc.): A global leader in hotel and event venue management.\n",
      "  *   **WYNN** (Wynn Resorts, Limited): Operates luxury hotels and casinos, often used for large events.\n",
      "  *   **CCL** (Carnival Corporation & plc): While primarily a cruise line, they often host events and provide venues on their ships.\n",
      "  **Important Notes: **\n",
      "  *   **Flower Wall Rental: ** This is a highly specialized and localized business. Finding a publicly traded company that *solely* does flower wall rentals is highly unlikely. The closest would be companies that provide the raw materials used to create these flower walls.\n",
      "  *   **Industry Overlap: ** Some companies may operate in multiple industries. The categorization above is based on the primary focus of their business.\n",
      "  *   **Market Leaders: ** This list prioritizes companies that are major players within their respective industries.\n",
      "  *   **Real Companies: ** All tickers are for real, publicly traded companies on major exchanges.\n",
      "\n",
      "Total Unique Tickers: 19\n"
     ]
    }
   ],
   "source": [
    "# Get stock tickers for each industry in the supply chain\n",
    "print(\"Getting stock tickers for supply chain industries...\")\n",
    "ticker_dict = gemini.get_ticker_list(supply_chain_text)\n",
    "\n",
    "# Display tickers by industry\n",
    "print(\"\\nStock Tickers by Industry:\")\n",
    "for industry, tickers in ticker_dict.items():\n",
    "    print(f\"  {industry}: {', '.join(tickers)}\")\n",
    "\n",
    "# Create a flat list of all tickers\n",
    "all_tickers = [ticker for sublist in ticker_dict.values() for ticker in sublist]\n",
    "print(f\"\\nTotal Unique Tickers: {len(set(all_tickers))}\")"
   ]
  },
  {
   "cell_type": "markdown",
   "metadata": {},
   "source": [
    "## 5. Create an Optimized Portfolio"
   ]
  },
  {
   "cell_type": "code",
   "execution_count": 5,
   "metadata": {},
   "outputs": [
    {
     "name": "stdout",
     "output_type": "stream",
     "text": [
      "Optimizing portfolio...\n"
     ]
    },
    {
     "name": "stderr",
     "output_type": "stream",
     "text": [
      "2025-03-08 09:43:07,988 - yfinance - ERROR - Could not get exchangeTimezoneName for ticker '' reason: 'chart'\n",
      "2025-03-08 09:43:08,916 - yfinance - ERROR - $: possibly delisted; no price data found  (period=2y)\n"
     ]
    },
    {
     "name": "stdout",
     "output_type": "stream",
     "text": [
      "Error fetching data for : No data available for \n"
     ]
    },
    {
     "name": "stderr",
     "output_type": "stream",
     "text": [
      "2025-03-08 09:43:10,397 - yfinance - ERROR - $**: possibly delisted; no price data found  (period=2y) (Yahoo error = \"No data found, symbol may be delisted\")\n"
     ]
    },
    {
     "name": "stdout",
     "output_type": "stream",
     "text": [
      "Error fetching data for **: No data available for **\n"
     ]
    },
    {
     "name": "stderr",
     "output_type": "stream",
     "text": [
      "2025-03-08 09:43:11,927 - yfinance - ERROR - $WHILE PRIMARILY A PAINT AND COATINGS COMPANY: possibly delisted; no price data found  (period=2y) (Yahoo error = \"No data found, symbol may be delisted\")\n"
     ]
    },
    {
     "name": "stdout",
     "output_type": "stream",
     "text": [
      "Error fetching data for While primarily a paint and coatings company: No data available for While primarily a paint and coatings company\n"
     ]
    },
    {
     "name": "stderr",
     "output_type": "stream",
     "text": [
      "2025-03-08 09:43:13,236 - yfinance - ERROR - $THEY ALSO HAVE A SIGNIFICANT PRESENCE IN THE DIY AND CRAFT SUPPLY MARKET.: possibly delisted; no price data found  (period=2y) (Yahoo error = \"No data found, symbol may be delisted\")\n"
     ]
    },
    {
     "name": "stdout",
     "output_type": "stream",
     "text": [
      "Error fetching data for they also have a significant presence in the DIY and craft supply market.: No data available for they also have a significant presence in the DIY and craft supply market.\n"
     ]
    },
    {
     "name": "stderr",
     "output_type": "stream",
     "text": [
      "2025-03-08 09:43:14,577 - yfinance - ERROR - $A GLOBAL PROVIDER OF BUSINESS-TO-BUSINESS DISTRIBUTION: possibly delisted; no price data found  (period=2y) (Yahoo error = \"No data found, symbol may be delisted\")\n"
     ]
    },
    {
     "name": "stdout",
     "output_type": "stream",
     "text": [
      "Error fetching data for A global provider of business-to-business distribution: No data available for A global provider of business-to-business distribution\n"
     ]
    },
    {
     "name": "stderr",
     "output_type": "stream",
     "text": [
      "2025-03-08 09:43:16,002 - yfinance - ERROR - $LOGISTICS SERVICES: possibly delisted; no price data found  (period=2y) (Yahoo error = \"No data found, symbol may be delisted\")\n"
     ]
    },
    {
     "name": "stdout",
     "output_type": "stream",
     "text": [
      "Error fetching data for logistics services: No data available for logistics services\n"
     ]
    },
    {
     "name": "stderr",
     "output_type": "stream",
     "text": [
      "2025-03-08 09:43:17,927 - yfinance - ERROR - $AND SUPPLY CHAIN SOLUTIONS.: possibly delisted; no price data found  (period=2y) (Yahoo error = \"No data found, symbol may be delisted\")\n"
     ]
    },
    {
     "name": "stdout",
     "output_type": "stream",
     "text": [
      "Error fetching data for and supply chain solutions.: No data available for and supply chain solutions.\n"
     ]
    },
    {
     "name": "stderr",
     "output_type": "stream",
     "text": [
      "2025-03-08 09:43:19,673 - yfinance - ERROR - $A MAJOR HOME IMPROVEMENT RETAILER THAT SELLS RAW MATERIALS FOR VARIOUS CRAFTS AND DECOR: possibly delisted; no price data found  (period=2y) (Yahoo error = \"No data found, symbol may be delisted\")\n"
     ]
    },
    {
     "name": "stdout",
     "output_type": "stream",
     "text": [
      "Error fetching data for A major home improvement retailer that sells raw materials for various crafts and decor: No data available for A major home improvement retailer that sells raw materials for various crafts and decor\n"
     ]
    },
    {
     "name": "stderr",
     "output_type": "stream",
     "text": [
      "2025-03-08 09:43:21,043 - yfinance - ERROR - $INCLUDING FLORAL ARRANGEMENTS.: possibly delisted; no price data found  (period=2y) (Yahoo error = \"No data found, symbol may be delisted\")\n"
     ]
    },
    {
     "name": "stdout",
     "output_type": "stream",
     "text": [
      "Error fetching data for including floral arrangements.: No data available for including floral arrangements.\n"
     ]
    },
    {
     "name": "stderr",
     "output_type": "stream",
     "text": [
      "2025-03-08 09:43:21,556 - yfinance - ERROR - $**: possibly delisted; no price data found  (period=2y) (Yahoo error = \"No data found, symbol may be delisted\")\n"
     ]
    },
    {
     "name": "stdout",
     "output_type": "stream",
     "text": [
      "Error fetching data for **: No data available for **\n"
     ]
    },
    {
     "name": "stderr",
     "output_type": "stream",
     "text": [
      "2025-03-08 09:43:22,152 - yfinance - ERROR - $**: possibly delisted; no price data found  (period=2y) (Yahoo error = \"No data found, symbol may be delisted\")\n"
     ]
    },
    {
     "name": "stdout",
     "output_type": "stream",
     "text": [
      "Error fetching data for **: No data available for **\n"
     ]
    },
    {
     "name": "stderr",
     "output_type": "stream",
     "text": [
      "2025-03-08 09:43:23,315 - yfinance - ERROR - $A GLOBAL LEADER IN HOTEL AND EVENT VENUE MANAGEMENT.: possibly delisted; no price data found  (period=2y) (Yahoo error = \"No data found, symbol may be delisted\")\n"
     ]
    },
    {
     "name": "stdout",
     "output_type": "stream",
     "text": [
      "Error fetching data for A global leader in hotel and event venue management.: No data available for A global leader in hotel and event venue management.\n"
     ]
    },
    {
     "name": "stderr",
     "output_type": "stream",
     "text": [
      "2025-03-08 09:43:24,789 - yfinance - ERROR - $OPERATES LUXURY HOTELS AND CASINOS: possibly delisted; no price data found  (period=2y) (Yahoo error = \"No data found, symbol may be delisted\")\n"
     ]
    },
    {
     "name": "stdout",
     "output_type": "stream",
     "text": [
      "Error fetching data for Operates luxury hotels and casinos: No data available for Operates luxury hotels and casinos\n"
     ]
    },
    {
     "name": "stderr",
     "output_type": "stream",
     "text": [
      "2025-03-08 09:43:25,851 - yfinance - ERROR - $OFTEN USED FOR LARGE EVENTS.: possibly delisted; no price data found  (period=2y) (Yahoo error = \"No data found, symbol may be delisted\")\n"
     ]
    },
    {
     "name": "stdout",
     "output_type": "stream",
     "text": [
      "Error fetching data for often used for large events.: No data available for often used for large events.\n"
     ]
    },
    {
     "name": "stderr",
     "output_type": "stream",
     "text": [
      "2025-03-08 09:43:27,079 - yfinance - ERROR - $WHILE PRIMARILY A CRUISE LINE: possibly delisted; no price data found  (period=2y) (Yahoo error = \"No data found, symbol may be delisted\")\n"
     ]
    },
    {
     "name": "stdout",
     "output_type": "stream",
     "text": [
      "Error fetching data for While primarily a cruise line: No data available for While primarily a cruise line\n"
     ]
    },
    {
     "name": "stderr",
     "output_type": "stream",
     "text": [
      "2025-03-08 09:43:28,282 - yfinance - ERROR - $THEY OFTEN HOST EVENTS AND PROVIDE VENUES ON THEIR SHIPS.: possibly delisted; no price data found  (period=2y) (Yahoo error = \"No data found, symbol may be delisted\")\n"
     ]
    },
    {
     "name": "stdout",
     "output_type": "stream",
     "text": [
      "Error fetching data for they often host events and provide venues on their ships.: No data available for they often host events and provide venues on their ships.\n"
     ]
    },
    {
     "name": "stderr",
     "output_type": "stream",
     "text": [
      "2025-03-08 09:43:28,780 - yfinance - ERROR - $**: possibly delisted; no price data found  (period=2y) (Yahoo error = \"No data found, symbol may be delisted\")\n"
     ]
    },
    {
     "name": "stdout",
     "output_type": "stream",
     "text": [
      "Error fetching data for **: No data available for **\n"
     ]
    },
    {
     "name": "stderr",
     "output_type": "stream",
     "text": [
      "2025-03-08 09:43:30,248 - yfinance - ERROR - $** THIS IS A HIGHLY SPECIALIZED AND LOCALIZED BUSINESS. FINDING A PUBLICLY TRADED COMPANY THAT *SOLELY* DOES FLOWER WALL RENTALS IS HIGHLY UNLIKELY. THE CLOSEST WOULD BE COMPANIES THAT PROVIDE THE RAW MATERIALS USED TO CREATE THESE FLOWER WALLS.: possibly delisted; no price data found  (period=2y) (Yahoo error = \"No data found, symbol may be delisted\")\n"
     ]
    },
    {
     "name": "stdout",
     "output_type": "stream",
     "text": [
      "Error fetching data for ** This is a highly specialized and localized business. Finding a publicly traded company that *solely* does flower wall rentals is highly unlikely. The closest would be companies that provide the raw materials used to create these flower walls.: No data available for ** This is a highly specialized and localized business. Finding a publicly traded company that *solely* does flower wall rentals is highly unlikely. The closest would be companies that provide the raw materials used to create these flower walls.\n"
     ]
    },
    {
     "name": "stderr",
     "output_type": "stream",
     "text": [
      "2025-03-08 09:43:31,925 - yfinance - ERROR - $** SOME COMPANIES MAY OPERATE IN MULTIPLE INDUSTRIES. THE CATEGORIZATION ABOVE IS BASED ON THE PRIMARY FOCUS OF THEIR BUSINESS.: possibly delisted; no price data found  (period=2y) (Yahoo error = \"No data found, symbol may be delisted\")\n"
     ]
    },
    {
     "name": "stdout",
     "output_type": "stream",
     "text": [
      "Error fetching data for ** Some companies may operate in multiple industries. The categorization above is based on the primary focus of their business.: No data available for ** Some companies may operate in multiple industries. The categorization above is based on the primary focus of their business.\n"
     ]
    },
    {
     "name": "stderr",
     "output_type": "stream",
     "text": [
      "2025-03-08 09:43:33,014 - yfinance - ERROR - $** THIS LIST PRIORITIZES COMPANIES THAT ARE MAJOR PLAYERS WITHIN THEIR RESPECTIVE INDUSTRIES.: possibly delisted; no price data found  (period=2y) (Yahoo error = \"No data found, symbol may be delisted\")\n"
     ]
    },
    {
     "name": "stdout",
     "output_type": "stream",
     "text": [
      "Error fetching data for ** This list prioritizes companies that are major players within their respective industries.: No data available for ** This list prioritizes companies that are major players within their respective industries.\n"
     ]
    },
    {
     "name": "stderr",
     "output_type": "stream",
     "text": [
      "2025-03-08 09:43:34,320 - yfinance - ERROR - $** ALL TICKERS ARE FOR REAL: possibly delisted; no price data found  (period=2y) (Yahoo error = \"No data found, symbol may be delisted\")\n"
     ]
    },
    {
     "name": "stdout",
     "output_type": "stream",
     "text": [
      "Error fetching data for ** All tickers are for real: No data available for ** All tickers are for real\n"
     ]
    },
    {
     "name": "stderr",
     "output_type": "stream",
     "text": [
      "2025-03-08 09:43:35,773 - yfinance - ERROR - $PUBLICLY TRADED COMPANIES ON MAJOR EXCHANGES.: possibly delisted; no price data found  (period=2y) (Yahoo error = \"No data found, symbol may be delisted\")\n"
     ]
    },
    {
     "name": "stdout",
     "output_type": "stream",
     "text": [
      "Error fetching data for publicly traded companies on major exchanges.: No data available for publicly traded companies on major exchanges.\n",
      "\n",
      "Optimized Portfolio:\n"
     ]
    },
    {
     "data": {
      "text/html": [
       "<div>\n",
       "<style scoped>\n",
       "    .dataframe tbody tr th:only-of-type {\n",
       "        vertical-align: middle;\n",
       "    }\n",
       "\n",
       "    .dataframe tbody tr th {\n",
       "        vertical-align: top;\n",
       "    }\n",
       "\n",
       "    .dataframe thead th {\n",
       "        text-align: right;\n",
       "    }\n",
       "</style>\n",
       "<table border=\"1\" class=\"dataframe\">\n",
       "  <thead>\n",
       "    <tr style=\"text-align: right;\">\n",
       "      <th></th>\n",
       "      <th>Ticker</th>\n",
       "      <th>Price</th>\n",
       "      <th>Investment</th>\n",
       "      <th>Weight</th>\n",
       "      <th>Shares</th>\n",
       "      <th>Actual Investment</th>\n",
       "      <th>Actual Weight</th>\n",
       "    </tr>\n",
       "  </thead>\n",
       "  <tbody>\n",
       "  </tbody>\n",
       "</table>\n",
       "</div>"
      ],
      "text/plain": [
       "Empty DataFrame\n",
       "Columns: [Ticker, Price, Investment, Weight, Shares, Actual Investment, Actual Weight]\n",
       "Index: []"
      ]
     },
     "metadata": {},
     "output_type": "display_data"
    }
   ],
   "source": [
    "# Initialize portfolio optimization model\n",
    "portfolio_model = PortfolioOptimizationModel(\n",
    "    investment_amount=10000.0,  # $10,000 investment\n",
    "    min_investment_score=0.60,  # Minimum score to consider\n",
    "    risk_aversion=2.0,  # Risk aversion parameter (higher = more risk-averse)\n",
    "    max_weight_per_stock=0.3  # Maximum 30% in any single stock\n",
    ")\n",
    "\n",
    "# Optimize portfolio using tickers from supply chain\n",
    "print(\"Optimizing portfolio...\")\n",
    "portfolio = portfolio_model.optimize_portfolio(all_tickers)\n",
    "\n",
    "# Display optimized portfolio\n",
    "print(\"\\nOptimized Portfolio:\")\n",
    "portfolio_df = pd.DataFrame(portfolio, columns=['Ticker', 'Price', 'Investment'])\n",
    "portfolio_df['Weight'] = portfolio_df['Investment'] / portfolio_df['Investment'].sum()\n",
    "portfolio_df['Shares'] = (portfolio_df['Investment'] / portfolio_df['Price']).apply(lambda x: int(x))\n",
    "portfolio_df['Actual Investment'] = portfolio_df['Shares'] * portfolio_df['Price']\n",
    "portfolio_df['Actual Weight'] = portfolio_df['Actual Investment'] / portfolio_df['Actual Investment'].sum()\n",
    "\n",
    "# Format display\n",
    "display_df = portfolio_df.copy()\n",
    "display_df['Price'] = display_df['Price'].map('${:,.2f}'.format)\n",
    "display_df['Investment'] = display_df['Investment'].map('${:,.2f}'.format)\n",
    "display_df['Weight'] = display_df['Weight'].map('{:.2%}'.format)\n",
    "display_df['Actual Investment'] = display_df['Actual Investment'].map('${:,.2f}'.format)\n",
    "display_df['Actual Weight'] = display_df['Actual Weight'].map('{:.2%}'.format)\n",
    "\n",
    "display(display_df)"
   ]
  },
  {
   "cell_type": "markdown",
   "metadata": {},
   "source": [
    "## 6. Evaluate Optimized Portfolio"
   ]
  },
  {
   "cell_type": "code",
   "execution_count": null,
   "metadata": {},
   "outputs": [],
   "source": [
    "# Get full evaluation for each ticker in the portfolio\n",
    "tickers = portfolio_df['Ticker'].tolist()\n",
    "ticker_prices = dict(zip(portfolio_df['Ticker'], portfolio_df['Price']))\n",
    "\n",
    "# Get evaluations for portfolio tickers\n",
    "evaluations = portfolio_model.evaluate_tickers(tickers, ticker_prices)\n",
    "\n",
    "# Display stock evaluations\n",
    "print(\"Portfolio Stock Evaluations:\")\n",
    "display(evaluations[['ticker', 'investment_score', 'recommendation', 'historical_returns', 'growth_projections']])"
   ]
  },
  {
   "cell_type": "markdown",
   "metadata": {},
   "source": [
    "## 7. Visualize Portfolio Allocation"
   ]
  },
  {
   "cell_type": "code",
   "execution_count": null,
   "metadata": {},
   "outputs": [],
   "source": [
    "# Pie chart of portfolio allocation\n",
    "plt.figure(figsize=(12, 8))\n",
    "plt.pie(portfolio_df['Actual Weight'], labels=portfolio_df['Ticker'], autopct='%1.1f%%', \n",
    "        shadow=True, startangle=140, explode=[0.05] * len(portfolio_df))\n",
    "plt.axis('equal')  # Equal aspect ratio ensures that pie is drawn as a circle\n",
    "plt.title(f'Portfolio Allocation Based on {business_data[\"name\"]} Supply Chain')\n",
    "plt.show()"
   ]
  },
  {
   "cell_type": "markdown",
   "metadata": {},
   "source": [
    "## 8. Map Portfolio to Supply Chain"
   ]
  },
  {
   "cell_type": "code",
   "execution_count": null,
   "metadata": {},
   "outputs": [],
   "source": [
    "# Map tickers back to industries\n",
    "ticker_to_industry = {}\n",
    "for industry, tickers in ticker_dict.items():\n",
    "    for ticker in tickers:\n",
    "        ticker_to_industry[ticker] = industry\n",
    "\n",
    "# Add industry to portfolio dataframe\n",
    "portfolio_df['Industry'] = portfolio_df['Ticker'].map(ticker_to_industry)\n",
    "\n",
    "# Group by industry and sum investments\n",
    "industry_allocation = portfolio_df.groupby('Industry')['Actual Investment'].sum().reset_index()\n",
    "industry_allocation['Weight'] = industry_allocation['Actual Investment'] / industry_allocation['Actual Investment'].sum()\n",
    "\n",
    "# Format display\n",
    "industry_display = industry_allocation.copy()\n",
    "industry_display['Actual Investment'] = industry_display['Actual Investment'].map('${:,.2f}'.format)\n",
    "industry_display['Weight'] = industry_display['Weight'].map('{:.2%}'.format)\n",
    "industry_display = industry_display.sort_values('Weight', ascending=False)\n",
    "\n",
    "print(\"Investment Allocation by Supply Chain Industry:\")\n",
    "display(industry_display)\n",
    "\n",
    "# Bar chart of industry allocation\n",
    "plt.figure(figsize=(12, 8))\n",
    "sns.barplot(x='Industry', y='Weight', data=industry_allocation)\n",
    "plt.title(f'Investment Allocation by Supply Chain Industry for {business_data[\"name\"]}')\n",
    "plt.ylabel('Portfolio Weight')\n",
    "plt.xticks(rotation=45, ha='right')\n",
    "plt.tight_layout()\n",
    "plt.show()"
   ]
  },
  {
   "cell_type": "markdown",
   "metadata": {},
   "source": [
    "## 9. Summary and Insights"
   ]
  },
  {
   "cell_type": "code",
   "execution_count": null,
   "metadata": {},
   "outputs": [],
   "source": [
    "# Calculate portfolio statistics\n",
    "num_tickers = len(portfolio_df)\n",
    "total_invested = portfolio_df['Actual Investment'].sum()\n",
    "top_industry = industry_display.iloc[0]['Industry']\n",
    "top_industry_weight = industry_display.iloc[0]['Weight']\n",
    "top_stock = portfolio_df.sort_values('Actual Weight', ascending=False).iloc[0]['Ticker']\n",
    "top_stock_weight = portfolio_df.sort_values('Actual Weight', ascending=False).iloc[0]['Actual Weight']\n",
    "num_industries = len(industry_display)\n",
    "avg_score = evaluations['investment_score'].mean()\n",
    "\n",
    "# Display summary\n",
    "print(f\"Investment Summary for {business_data['name']} Supply Chain Portfolio\")\n",
    "print(f\"------------------------------------------------------------------------------\")\n",
    "print(f\"Total Investment: ${total_invested:,.2f}\")\n",
    "print(f\"Number of Stocks: {num_tickers}\")\n",
    "print(f\"Number of Supply Chain Industries: {num_industries}\")\n",
    "print(f\"Average Investment Score: {avg_score:.2f}\")\n",
    "print(f\"\\nTop Industry: {top_industry} ({top_industry_weight})\")\n",
    "print(f\"Top Stock: {top_stock} ({top_stock_weight:.2%} of portfolio)\")\n",
    "print(f\"\\nSeasonality: Current season is {current_season}, which may affect certain industries\")\n",
    "print(f\"\\nConclusion:\")\n",
    "print(f\"This portfolio is optimized based on the supply chain of {business_data['name']},\")\n",
    "print(f\"a {business_data['business_type']} business with annual revenue of ${business_data['annual_revenue']:,}.\")\n",
    "print(f\"The optimization process balanced expected returns with risk across supply chain industries.\")"
   ]
  }
 ],
 "metadata": {
  "kernelspec": {
   "display_name": "Python 3",
   "language": "python",
   "name": "python3"
  },
  "language_info": {
   "codemirror_mode": {
    "name": "ipython",
    "version": 3
   },
   "file_extension": ".py",
   "mimetype": "text/x-python",
   "name": "python",
   "nbconvert_exporter": "python",
   "pygments_lexer": "ipython3",
   "version": "3.12.3"
  }
 },
 "nbformat": 4,
 "nbformat_minor": 4
}
